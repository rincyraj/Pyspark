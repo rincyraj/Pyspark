{
  "nbformat": 4,
  "nbformat_minor": 0,
  "metadata": {
    "colab": {
      "provenance": [],
      "authorship_tag": "ABX9TyO/hHzuh49Ut6tZeyWohQLG",
      "include_colab_link": true
    },
    "kernelspec": {
      "name": "python3",
      "display_name": "Python 3"
    },
    "language_info": {
      "name": "python"
    }
  },
  "cells": [
    {
      "cell_type": "markdown",
      "metadata": {
        "id": "view-in-github",
        "colab_type": "text"
      },
      "source": [
        "<a href=\"https://colab.research.google.com/github/rincyraj/Pyspark/blob/main/basic_operations.ipynb\" target=\"_parent\"><img src=\"https://colab.research.google.com/assets/colab-badge.svg\" alt=\"Open In Colab\"/></a>"
      ]
    },
    {
      "cell_type": "markdown",
      "source": [
        "#Lazy evaluation: Will not perform  transformations until the action call.\n",
        "Select,expr,SelectExpr,cast"
      ],
      "metadata": {
        "id": "2VTv1AzmkQ-b"
      }
    },
    {
      "cell_type": "code",
      "source": [
        "from pyspark.sql import SparkSession\n",
        "from pyspark.sql.functions import col\n",
        "spark = SparkSession.builder.appName('basic_operations').getOrCreate()\n",
        "spark"
      ],
      "metadata": {
        "id": "JVX1FX-t4oUG"
      },
      "execution_count": null,
      "outputs": []
    }
  ]
}